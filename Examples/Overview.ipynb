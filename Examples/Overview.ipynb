{
 "cells": [
  {
   "cell_type": "markdown",
   "metadata": {},
   "source": [
    "# Portfolio Analyzer overview\n",
    "\n",
    "Portfolio Analyzer is a python library built to make easy portfolio analysis. In this Notebook we are going to see few examples. First things first. You can install Portfolio Analyzer with pip, so"
   ]
  },
  {
   "cell_type": "code",
   "execution_count": 1,
   "metadata": {},
   "outputs": [],
   "source": [
    "#%%bash\n",
    "#pip install git+https://github.com/Tokukawa/PortfolioAnalyzer.git"
   ]
  },
  {
   "cell_type": "markdown",
   "metadata": {},
   "source": [
    "The first thing we need in order to analyze porfolio is data. We can use the function `yahoo2pandas`. This function take a list of tickers and return a pandas dataframe"
   ]
  },
  {
   "cell_type": "code",
   "execution_count": 2,
   "metadata": {},
   "outputs": [],
   "source": [
    "from portfolio_analyzer.stocks_data_loader import yahoo2pandas"
   ]
  },
  {
   "cell_type": "code",
   "execution_count": 3,
   "metadata": {},
   "outputs": [],
   "source": [
    "tickers = ['SPXL', 'TMF', 'UGL']\n",
    "data = yahoo2pandas(tickers, frequency='daily')"
   ]
  },
  {
   "cell_type": "code",
   "execution_count": 4,
   "metadata": {},
   "outputs": [
    {
     "data": {
      "text/html": [
       "<div>\n",
       "<style scoped>\n",
       "    .dataframe tbody tr th:only-of-type {\n",
       "        vertical-align: middle;\n",
       "    }\n",
       "\n",
       "    .dataframe tbody tr th {\n",
       "        vertical-align: top;\n",
       "    }\n",
       "\n",
       "    .dataframe thead th {\n",
       "        text-align: right;\n",
       "    }\n",
       "</style>\n",
       "<table border=\"1\" class=\"dataframe\">\n",
       "  <thead>\n",
       "    <tr style=\"text-align: right;\">\n",
       "      <th></th>\n",
       "      <th>SPXL</th>\n",
       "      <th>TMF</th>\n",
       "      <th>UGL</th>\n",
       "    </tr>\n",
       "    <tr>\n",
       "      <th>formatted_date</th>\n",
       "      <th></th>\n",
       "      <th></th>\n",
       "      <th></th>\n",
       "    </tr>\n",
       "  </thead>\n",
       "  <tbody>\n",
       "    <tr>\n",
       "      <th>2009-04-16</th>\n",
       "      <td>2.415000</td>\n",
       "      <td>14.5350</td>\n",
       "      <td>29.920000</td>\n",
       "    </tr>\n",
       "    <tr>\n",
       "      <th>2009-04-17</th>\n",
       "      <td>2.470000</td>\n",
       "      <td>13.8850</td>\n",
       "      <td>29.440001</td>\n",
       "    </tr>\n",
       "    <tr>\n",
       "      <th>2009-04-20</th>\n",
       "      <td>2.152500</td>\n",
       "      <td>14.7275</td>\n",
       "      <td>30.690001</td>\n",
       "    </tr>\n",
       "    <tr>\n",
       "      <th>2009-04-21</th>\n",
       "      <td>2.278333</td>\n",
       "      <td>14.2825</td>\n",
       "      <td>30.559999</td>\n",
       "    </tr>\n",
       "    <tr>\n",
       "      <th>2009-04-22</th>\n",
       "      <td>2.237500</td>\n",
       "      <td>13.7950</td>\n",
       "      <td>30.889999</td>\n",
       "    </tr>\n",
       "  </tbody>\n",
       "</table>\n",
       "</div>"
      ],
      "text/plain": [
       "                    SPXL      TMF        UGL\n",
       "formatted_date                              \n",
       "2009-04-16      2.415000  14.5350  29.920000\n",
       "2009-04-17      2.470000  13.8850  29.440001\n",
       "2009-04-20      2.152500  14.7275  30.690001\n",
       "2009-04-21      2.278333  14.2825  30.559999\n",
       "2009-04-22      2.237500  13.7950  30.889999"
      ]
     },
     "execution_count": 4,
     "metadata": {},
     "output_type": "execute_result"
    }
   ],
   "source": [
    "data.head()"
   ]
  },
  {
   "cell_type": "markdown",
   "metadata": {},
   "source": [
    "By default `yahoo2pandas` return all possible data from yahoo. You can specify range of time you want and the frequency. Once we obtained the data, we can optimize our portfolio according to some most common algorithms. Up this moment you can use only `minimal_variance`, `risk_parity` and `approximated_max_kelly`."
   ]
  },
  {
   "cell_type": "code",
   "execution_count": 5,
   "metadata": {},
   "outputs": [],
   "source": [
    "from portfolio_analyzer.optimizers import approximated_max_kelly, minimal_variance, risk_parity"
   ]
  },
  {
   "cell_type": "code",
   "execution_count": 6,
   "metadata": {},
   "outputs": [
    {
     "data": {
      "text/html": [
       "<div>\n",
       "<style scoped>\n",
       "    .dataframe tbody tr th:only-of-type {\n",
       "        vertical-align: middle;\n",
       "    }\n",
       "\n",
       "    .dataframe tbody tr th {\n",
       "        vertical-align: top;\n",
       "    }\n",
       "\n",
       "    .dataframe thead th {\n",
       "        text-align: right;\n",
       "    }\n",
       "</style>\n",
       "<table border=\"1\" class=\"dataframe\">\n",
       "  <thead>\n",
       "    <tr style=\"text-align: right;\">\n",
       "      <th></th>\n",
       "      <th>SPXL</th>\n",
       "      <th>TMF</th>\n",
       "      <th>UGL</th>\n",
       "    </tr>\n",
       "  </thead>\n",
       "  <tbody>\n",
       "    <tr>\n",
       "      <th>0</th>\n",
       "      <td>0.30152</td>\n",
       "      <td>0.347228</td>\n",
       "      <td>0.351252</td>\n",
       "    </tr>\n",
       "  </tbody>\n",
       "</table>\n",
       "</div>"
      ],
      "text/plain": [
       "      SPXL       TMF       UGL\n",
       "0  0.30152  0.347228  0.351252"
      ]
     },
     "execution_count": 6,
     "metadata": {},
     "output_type": "execute_result"
    }
   ],
   "source": [
    "minimal_variance(data)"
   ]
  },
  {
   "cell_type": "code",
   "execution_count": 7,
   "metadata": {},
   "outputs": [
    {
     "name": "stdout",
     "output_type": "stream",
     "text": [
      "Optimization terminated successfully.    (Exit mode 0)\n",
      "            Current function value: 1.0381063068140511e-13\n",
      "            Iterations: 18\n",
      "            Function evaluations: 90\n",
      "            Gradient evaluations: 18\n"
     ]
    },
    {
     "data": {
      "text/html": [
       "<div>\n",
       "<style scoped>\n",
       "    .dataframe tbody tr th:only-of-type {\n",
       "        vertical-align: middle;\n",
       "    }\n",
       "\n",
       "    .dataframe tbody tr th {\n",
       "        vertical-align: top;\n",
       "    }\n",
       "\n",
       "    .dataframe thead th {\n",
       "        text-align: right;\n",
       "    }\n",
       "</style>\n",
       "<table border=\"1\" class=\"dataframe\">\n",
       "  <thead>\n",
       "    <tr style=\"text-align: right;\">\n",
       "      <th></th>\n",
       "      <th>SPXL</th>\n",
       "      <th>TMF</th>\n",
       "      <th>UGL</th>\n",
       "    </tr>\n",
       "  </thead>\n",
       "  <tbody>\n",
       "    <tr>\n",
       "      <th>0</th>\n",
       "      <td>0.312898</td>\n",
       "      <td>0.346142</td>\n",
       "      <td>0.340959</td>\n",
       "    </tr>\n",
       "  </tbody>\n",
       "</table>\n",
       "</div>"
      ],
      "text/plain": [
       "       SPXL       TMF       UGL\n",
       "0  0.312898  0.346142  0.340959"
      ]
     },
     "execution_count": 7,
     "metadata": {},
     "output_type": "execute_result"
    }
   ],
   "source": [
    "risk_parity(data)"
   ]
  },
  {
   "cell_type": "code",
   "execution_count": 8,
   "metadata": {},
   "outputs": [
    {
     "data": {
      "text/html": [
       "<div>\n",
       "<style scoped>\n",
       "    .dataframe tbody tr th:only-of-type {\n",
       "        vertical-align: middle;\n",
       "    }\n",
       "\n",
       "    .dataframe tbody tr th {\n",
       "        vertical-align: top;\n",
       "    }\n",
       "\n",
       "    .dataframe thead th {\n",
       "        text-align: right;\n",
       "    }\n",
       "</style>\n",
       "<table border=\"1\" class=\"dataframe\">\n",
       "  <thead>\n",
       "    <tr style=\"text-align: right;\">\n",
       "      <th></th>\n",
       "      <th>SPXL</th>\n",
       "      <th>TMF</th>\n",
       "      <th>UGL</th>\n",
       "    </tr>\n",
       "  </thead>\n",
       "  <tbody>\n",
       "    <tr>\n",
       "      <th>0</th>\n",
       "      <td>0.307769</td>\n",
       "      <td>0.350654</td>\n",
       "      <td>0.341577</td>\n",
       "    </tr>\n",
       "  </tbody>\n",
       "</table>\n",
       "</div>"
      ],
      "text/plain": [
       "       SPXL       TMF       UGL\n",
       "0  0.307769  0.350654  0.341577"
      ]
     },
     "execution_count": 8,
     "metadata": {},
     "output_type": "execute_result"
    }
   ],
   "source": [
    "approximated_max_kelly(data)"
   ]
  },
  {
   "cell_type": "markdown",
   "metadata": {},
   "source": [
    "We can see how our portfolio would perform with `NaiveBackTest`."
   ]
  },
  {
   "cell_type": "code",
   "execution_count": 9,
   "metadata": {},
   "outputs": [],
   "source": [
    "from portfolio_analyzer.backtest import NaiveBackTest\n",
    "from portfolio_analyzer.utils import portfolio2dic"
   ]
  },
  {
   "cell_type": "code",
   "execution_count": 10,
   "metadata": {},
   "outputs": [],
   "source": [
    "my_portfolio = portfolio2dic(approximated_max_kelly(data))"
   ]
  },
  {
   "cell_type": "code",
   "execution_count": 11,
   "metadata": {},
   "outputs": [],
   "source": [
    "backtest = NaiveBackTest(my_portfolio, data)"
   ]
  },
  {
   "cell_type": "code",
   "execution_count": 12,
   "metadata": {},
   "outputs": [],
   "source": [
    "risk_parity_backtest = backtest.run()"
   ]
  },
  {
   "cell_type": "markdown",
   "metadata": {},
   "source": [
    "We can perform some measures on the back test and we can plot it."
   ]
  },
  {
   "cell_type": "code",
   "execution_count": 13,
   "metadata": {},
   "outputs": [],
   "source": [
    "%matplotlib inline\n",
    "from portfolio_analyzer.metrics import MainMetrics"
   ]
  },
  {
   "cell_type": "code",
   "execution_count": 14,
   "metadata": {},
   "outputs": [
    {
     "data": {
      "text/plain": [
       "<matplotlib.axes._subplots.AxesSubplot at 0x128ef4450>"
      ]
     },
     "execution_count": 14,
     "metadata": {},
     "output_type": "execute_result"
    },
    {
     "data": {
      "image/png": "[encoded data removed]",
      "text/plain": [
       "<Figure size 432x288 with 1 Axes>"
      ]
     },
     "metadata": {
      "needs_background": "light"
     },
     "output_type": "display_data"
    }
   ],
   "source": [
    "data.plot(logy=True)"
   ]
  },
  {
   "cell_type": "code",
   "execution_count": 15,
   "metadata": {},
   "outputs": [
    {
     "data": {
      "text/plain": [
       "<matplotlib.axes._subplots.AxesSubplot at 0x1291a97d0>"
      ]
     },
     "execution_count": 15,
     "metadata": {},
     "output_type": "execute_result"
    },
    {
     "data": {
      "image/png": "[encoded data removed]",
      "text/plain": [
       "<Figure size 432x288 with 1 Axes>"
      ]
     },
     "metadata": {
      "needs_background": "light"
     },
     "output_type": "display_data"
    }
   ],
   "source": [
    "risk_parity_backtest.plot(logy=True)"
   ]
  },
  {
   "cell_type": "code",
   "execution_count": 16,
   "metadata": {},
   "outputs": [],
   "source": [
    "benchmark_data = yahoo2pandas(['VTI'], frequency='daily')\n",
    "measures = MainMetrics(benchmark=benchmark_data)"
   ]
  },
  {
   "cell_type": "code",
   "execution_count": 17,
   "metadata": {},
   "outputs": [
    {
     "data": {
      "text/html": [
       "<div>\n",
       "<style scoped>\n",
       "    .dataframe tbody tr th:only-of-type {\n",
       "        vertical-align: middle;\n",
       "    }\n",
       "\n",
       "    .dataframe tbody tr th {\n",
       "        vertical-align: top;\n",
       "    }\n",
       "\n",
       "    .dataframe thead th {\n",
       "        text-align: right;\n",
       "    }\n",
       "</style>\n",
       "<table border=\"1\" class=\"dataframe\">\n",
       "  <thead>\n",
       "    <tr style=\"text-align: right;\">\n",
       "      <th></th>\n",
       "      <th>portfolio</th>\n",
       "    </tr>\n",
       "  </thead>\n",
       "  <tbody>\n",
       "    <tr>\n",
       "      <th>alpha</th>\n",
       "      <td>0.146374</td>\n",
       "    </tr>\n",
       "    <tr>\n",
       "      <th>average arithmetic return</th>\n",
       "      <td>0.225571</td>\n",
       "    </tr>\n",
       "    <tr>\n",
       "      <th>average geometric return</th>\n",
       "      <td>0.223740</td>\n",
       "    </tr>\n",
       "    <tr>\n",
       "      <th>benchmark correlation</th>\n",
       "      <td>0.425989</td>\n",
       "    </tr>\n",
       "    <tr>\n",
       "      <th>beta</th>\n",
       "      <td>0.524360</td>\n",
       "    </tr>\n",
       "    <tr>\n",
       "      <th>max draw down</th>\n",
       "      <td>-0.341702</td>\n",
       "    </tr>\n",
       "    <tr>\n",
       "      <th>relative draw down</th>\n",
       "      <td>0.976284</td>\n",
       "    </tr>\n",
       "    <tr>\n",
       "      <th>relative return</th>\n",
       "      <td>2.002532</td>\n",
       "    </tr>\n",
       "    <tr>\n",
       "      <th>relative sharpe ratio</th>\n",
       "      <td>1.508135</td>\n",
       "    </tr>\n",
       "    <tr>\n",
       "      <th>relative variance</th>\n",
       "      <td>1.515474</td>\n",
       "    </tr>\n",
       "    <tr>\n",
       "      <th>sharpe ratio</th>\n",
       "      <td>1.041205</td>\n",
       "    </tr>\n",
       "    <tr>\n",
       "      <th>variance</th>\n",
       "      <td>0.046935</td>\n",
       "    </tr>\n",
       "  </tbody>\n",
       "</table>\n",
       "</div>"
      ],
      "text/plain": [
       "                           portfolio\n",
       "alpha                       0.146374\n",
       "average arithmetic return   0.225571\n",
       "average geometric return    0.223740\n",
       "benchmark correlation       0.425989\n",
       "beta                        0.524360\n",
       "max draw down              -0.341702\n",
       "relative draw down          0.976284\n",
       "relative return             2.002532\n",
       "relative sharpe ratio       1.508135\n",
       "relative variance           1.515474\n",
       "sharpe ratio                1.041205\n",
       "variance                    0.046935"
      ]
     },
     "execution_count": 17,
     "metadata": {},
     "output_type": "execute_result"
    }
   ],
   "source": [
    "MainMetrics(benchmark_data).estimate(risk_parity_backtest)"
   ]
  },
  {
   "cell_type": "markdown",
   "metadata": {},
   "source": [
    "But I want to perform a proper out-of-sample back test before rebalancing my portfolio. We can use the class `OutOfSampleBackTest`. First of all we need to know how many times we can split the dataset."
   ]
  },
  {
   "cell_type": "code",
   "execution_count": 18,
   "metadata": {},
   "outputs": [],
   "source": [
    "import pandas as pd\n",
    "from portfolio_analyzer.utils import factors"
   ]
  },
  {
   "cell_type": "markdown",
   "metadata": {},
   "source": [
    "Before starting my out of sample back test I neee to know how many eway I can split my data. I can know it with `factors` function "
   ]
  },
  {
   "cell_type": "code",
   "execution_count": 31,
   "metadata": {},
   "outputs": [
    {
     "data": {
      "text/plain": [
       "[1, 2, 3, 6, 461, 922, 1383, 2766]"
      ]
     },
     "execution_count": 31,
     "metadata": {},
     "output_type": "execute_result"
    }
   ],
   "source": [
    "factors(len(data))"
   ]
  },
  {
   "cell_type": "markdown",
   "metadata": {},
   "source": [
    "I can split my data in all the factors shown above!"
   ]
  },
  {
   "cell_type": "code",
   "execution_count": 38,
   "metadata": {},
   "outputs": [],
   "source": [
    "SPLITS = 461"
   ]
  },
  {
   "cell_type": "markdown",
   "metadata": {},
   "source": [
    "Now we can make a proper outofsample backtest."
   ]
  },
  {
   "cell_type": "code",
   "execution_count": 21,
   "metadata": {},
   "outputs": [],
   "source": [
    "from portfolio_analyzer.backtest import OutOfSampleBackTest"
   ]
  },
  {
   "cell_type": "code",
   "execution_count": 33,
   "metadata": {},
   "outputs": [],
   "source": [
    "oos_backtest = OutOfSampleBackTest(data, minimal_variance, SPLITS, past_blocks=3, method='asym-blocks')"
   ]
  },
  {
   "cell_type": "code",
   "execution_count": 34,
   "metadata": {},
   "outputs": [],
   "source": [
    "out_of_sample_portfolio = oos_backtest.run()"
   ]
  },
  {
   "cell_type": "code",
   "execution_count": 35,
   "metadata": {},
   "outputs": [
    {
     "data": {
      "text/html": [
       "<div>\n",
       "<style scoped>\n",
       "    .dataframe tbody tr th:only-of-type {\n",
       "        vertical-align: middle;\n",
       "    }\n",
       "\n",
       "    .dataframe tbody tr th {\n",
       "        vertical-align: top;\n",
       "    }\n",
       "\n",
       "    .dataframe thead th {\n",
       "        text-align: right;\n",
       "    }\n",
       "</style>\n",
       "<table border=\"1\" class=\"dataframe\">\n",
       "  <thead>\n",
       "    <tr style=\"text-align: right;\">\n",
       "      <th></th>\n",
       "      <th>portfolio</th>\n",
       "    </tr>\n",
       "  </thead>\n",
       "  <tbody>\n",
       "    <tr>\n",
       "      <th>alpha</th>\n",
       "      <td>0.155106</td>\n",
       "    </tr>\n",
       "    <tr>\n",
       "      <th>average arithmetic return</th>\n",
       "      <td>0.227778</td>\n",
       "    </tr>\n",
       "    <tr>\n",
       "      <th>average geometric return</th>\n",
       "      <td>0.228400</td>\n",
       "    </tr>\n",
       "    <tr>\n",
       "      <th>benchmark correlation</th>\n",
       "      <td>0.360997</td>\n",
       "    </tr>\n",
       "    <tr>\n",
       "      <th>beta</th>\n",
       "      <td>0.402683</td>\n",
       "    </tr>\n",
       "    <tr>\n",
       "      <th>max draw down</th>\n",
       "      <td>-0.298444</td>\n",
       "    </tr>\n",
       "    <tr>\n",
       "      <th>relative draw down</th>\n",
       "      <td>0.852689</td>\n",
       "    </tr>\n",
       "    <tr>\n",
       "      <th>relative return</th>\n",
       "      <td>1.705599</td>\n",
       "    </tr>\n",
       "    <tr>\n",
       "      <th>relative sharpe ratio</th>\n",
       "      <td>1.422778</td>\n",
       "    </tr>\n",
       "    <tr>\n",
       "      <th>relative variance</th>\n",
       "      <td>1.248942</td>\n",
       "    </tr>\n",
       "    <tr>\n",
       "      <th>sharpe ratio</th>\n",
       "      <td>1.089812</td>\n",
       "    </tr>\n",
       "    <tr>\n",
       "      <th>variance</th>\n",
       "      <td>0.043684</td>\n",
       "    </tr>\n",
       "  </tbody>\n",
       "</table>\n",
       "</div>"
      ],
      "text/plain": [
       "                           portfolio\n",
       "alpha                       0.155106\n",
       "average arithmetic return   0.227778\n",
       "average geometric return    0.228400\n",
       "benchmark correlation       0.360997\n",
       "beta                        0.402683\n",
       "max draw down              -0.298444\n",
       "relative draw down          0.852689\n",
       "relative return             1.705599\n",
       "relative sharpe ratio       1.422778\n",
       "relative variance           1.248942\n",
       "sharpe ratio                1.089812\n",
       "variance                    0.043684"
      ]
     },
     "execution_count": 35,
     "metadata": {},
     "output_type": "execute_result"
    }
   ],
   "source": [
    "MainMetrics(benchmark_data).estimate(out_of_sample_portfolio)"
   ]
  },
  {
   "cell_type": "code",
   "execution_count": 43,
   "metadata": {},
   "outputs": [
    {
     "data": {
      "text/plain": [
       "<matplotlib.axes._subplots.AxesSubplot at 0x111940a90>"
      ]
     },
     "execution_count": 43,
     "metadata": {},
     "output_type": "execute_result"
    },
    {
     "data": {
      "image/png": "[encoded data removed]",
      "text/plain": [
       "<Figure size 432x288 with 1 Axes>"
      ]
     },
     "metadata": {
      "needs_background": "light"
     },
     "output_type": "display_data"
    }
   ],
   "source": [
    "out_of_sample_portfolio.plot(logy=True)"
   ]
  },
  {
   "cell_type": "markdown",
   "metadata": {},
   "source": [
    "I can even define my own strategy!"
   ]
  },
  {
   "cell_type": "code",
   "execution_count": 36,
   "metadata": {},
   "outputs": [],
   "source": [
    "def custom_portfolio(data):\n",
    "    return pd.DataFrame({'SPXL': [0.36], 'TMF':[0.48], 'UGL':[0.16]})"
   ]
  },
  {
   "cell_type": "code",
   "execution_count": 39,
   "metadata": {},
   "outputs": [],
   "source": [
    "oos_backtest = OutOfSampleBackTest(data, custom_portfolio, SPLITS, past_blocks=3, method='asym-blocks')"
   ]
  },
  {
   "cell_type": "code",
   "execution_count": 40,
   "metadata": {},
   "outputs": [],
   "source": [
    "out_of_sample_portfolio = oos_backtest.run()"
   ]
  },
  {
   "cell_type": "markdown",
   "metadata": {},
   "source": [
    "We can get the actual out of sample performance the same way we did before."
   ]
  },
  {
   "cell_type": "code",
   "execution_count": 41,
   "metadata": {},
   "outputs": [
    {
     "data": {
      "text/html": [
       "<div>\n",
       "<style scoped>\n",
       "    .dataframe tbody tr th:only-of-type {\n",
       "        vertical-align: middle;\n",
       "    }\n",
       "\n",
       "    .dataframe tbody tr th {\n",
       "        vertical-align: top;\n",
       "    }\n",
       "\n",
       "    .dataframe thead th {\n",
       "        text-align: right;\n",
       "    }\n",
       "</style>\n",
       "<table border=\"1\" class=\"dataframe\">\n",
       "  <thead>\n",
       "    <tr style=\"text-align: right;\">\n",
       "      <th></th>\n",
       "      <th>portfolio</th>\n",
       "    </tr>\n",
       "  </thead>\n",
       "  <tbody>\n",
       "    <tr>\n",
       "      <th>alpha</th>\n",
       "      <td>0.158637</td>\n",
       "    </tr>\n",
       "    <tr>\n",
       "      <th>average arithmetic return</th>\n",
       "      <td>0.224396</td>\n",
       "    </tr>\n",
       "    <tr>\n",
       "      <th>average geometric return</th>\n",
       "      <td>0.226516</td>\n",
       "    </tr>\n",
       "    <tr>\n",
       "      <th>benchmark correlation</th>\n",
       "      <td>0.338256</td>\n",
       "    </tr>\n",
       "    <tr>\n",
       "      <th>beta</th>\n",
       "      <td>0.362374</td>\n",
       "    </tr>\n",
       "    <tr>\n",
       "      <th>max draw down</th>\n",
       "      <td>-0.316818</td>\n",
       "    </tr>\n",
       "    <tr>\n",
       "      <th>relative draw down</th>\n",
       "      <td>0.905188</td>\n",
       "    </tr>\n",
       "    <tr>\n",
       "      <th>relative return</th>\n",
       "      <td>1.691530</td>\n",
       "    </tr>\n",
       "    <tr>\n",
       "      <th>relative sharpe ratio</th>\n",
       "      <td>1.463229</td>\n",
       "    </tr>\n",
       "    <tr>\n",
       "      <th>relative variance</th>\n",
       "      <td>1.146035</td>\n",
       "    </tr>\n",
       "    <tr>\n",
       "      <th>sharpe ratio</th>\n",
       "      <td>1.120796</td>\n",
       "    </tr>\n",
       "    <tr>\n",
       "      <th>variance</th>\n",
       "      <td>0.040084</td>\n",
       "    </tr>\n",
       "  </tbody>\n",
       "</table>\n",
       "</div>"
      ],
      "text/plain": [
       "                           portfolio\n",
       "alpha                       0.158637\n",
       "average arithmetic return   0.224396\n",
       "average geometric return    0.226516\n",
       "benchmark correlation       0.338256\n",
       "beta                        0.362374\n",
       "max draw down              -0.316818\n",
       "relative draw down          0.905188\n",
       "relative return             1.691530\n",
       "relative sharpe ratio       1.463229\n",
       "relative variance           1.146035\n",
       "sharpe ratio                1.120796\n",
       "variance                    0.040084"
      ]
     },
     "execution_count": 41,
     "metadata": {},
     "output_type": "execute_result"
    }
   ],
   "source": [
    "MainMetrics(benchmark_data).estimate(out_of_sample_portfolio)"
   ]
  },
  {
   "cell_type": "code",
   "execution_count": 42,
   "metadata": {},
   "outputs": [
    {
     "data": {
      "text/plain": [
       "<matplotlib.axes._subplots.AxesSubplot at 0x129748190>"
      ]
     },
     "execution_count": 42,
     "metadata": {},
     "output_type": "execute_result"
    },
    {
     "data": {
      "image/png": "[encoded data removed]",
      "text/plain": [
       "<Figure size 432x288 with 1 Axes>"
      ]
     },
     "metadata": {
      "needs_background": "light"
     },
     "output_type": "display_data"
    }
   ],
   "source": [
    "out_of_sample_portfolio.plot(logy=True)"
   ]
  },
  {
   "cell_type": "markdown",
   "metadata": {},
   "source": [
    "I can even detect trends. For trend detection we can use the function l1filter."
   ]
  },
  {
   "cell_type": "code",
   "execution_count": 67,
   "metadata": {},
   "outputs": [],
   "source": [
    "from portfolio_analyzer.filtering import l1filter"
   ]
  },
  {
   "cell_type": "code",
   "execution_count": 73,
   "metadata": {},
   "outputs": [
    {
     "data": {
      "text/plain": [
       "<matplotlib.axes._subplots.AxesSubplot at 0x11f8d7c90>"
      ]
     },
     "execution_count": 73,
     "metadata": {},
     "output_type": "execute_result"
    },
    {
     "data": {
      "image/png": "[encoded data removed]",
      "text/plain": [
       "<Figure size 432x288 with 1 Axes>"
      ]
     },
     "metadata": {
      "needs_background": "light"
     },
     "output_type": "display_data"
    }
   ],
   "source": [
    "filtered, test = l1filter(out_of_sample_portfolio, delta=1E5)\n",
    "filtered.plot(logy=True)"
   ]
  },
  {
   "cell_type": "code",
   "execution_count": 74,
   "metadata": {},
   "outputs": [
    {
     "data": {
      "text/html": [
       "<div>\n",
       "<style scoped>\n",
       "    .dataframe tbody tr th:only-of-type {\n",
       "        vertical-align: middle;\n",
       "    }\n",
       "\n",
       "    .dataframe tbody tr th {\n",
       "        vertical-align: top;\n",
       "    }\n",
       "\n",
       "    .dataframe thead th {\n",
       "        text-align: right;\n",
       "    }\n",
       "</style>\n",
       "<table border=\"1\" class=\"dataframe\">\n",
       "  <thead>\n",
       "    <tr style=\"text-align: right;\">\n",
       "      <th></th>\n",
       "      <th>portfolio_filter</th>\n",
       "      <th>portfolio</th>\n",
       "    </tr>\n",
       "    <tr>\n",
       "      <th>formatted_date</th>\n",
       "      <th></th>\n",
       "      <th></th>\n",
       "    </tr>\n",
       "  </thead>\n",
       "  <tbody>\n",
       "    <tr>\n",
       "      <th>2005-04-21</th>\n",
       "      <td>1.009702</td>\n",
       "      <td>1.000000</td>\n",
       "    </tr>\n",
       "    <tr>\n",
       "      <th>2005-04-22</th>\n",
       "      <td>1.009941</td>\n",
       "      <td>1.002737</td>\n",
       "    </tr>\n",
       "    <tr>\n",
       "      <th>2005-04-25</th>\n",
       "      <td>1.010180</td>\n",
       "      <td>1.007550</td>\n",
       "    </tr>\n",
       "    <tr>\n",
       "      <th>2005-04-26</th>\n",
       "      <td>1.010419</td>\n",
       "      <td>1.003945</td>\n",
       "    </tr>\n",
       "    <tr>\n",
       "      <th>2005-04-27</th>\n",
       "      <td>1.010658</td>\n",
       "      <td>1.005187</td>\n",
       "    </tr>\n",
       "  </tbody>\n",
       "</table>\n",
       "</div>"
      ],
      "text/plain": [
       "                portfolio_filter  portfolio\n",
       "formatted_date                             \n",
       "2005-04-21              1.009702   1.000000\n",
       "2005-04-22              1.009941   1.002737\n",
       "2005-04-25              1.010180   1.007550\n",
       "2005-04-26              1.010419   1.003945\n",
       "2005-04-27              1.010658   1.005187"
      ]
     },
     "execution_count": 74,
     "metadata": {},
     "output_type": "execute_result"
    }
   ],
   "source": [
    "filtered.head()"
   ]
  },
  {
   "cell_type": "markdown",
   "metadata": {},
   "source": [
    "Whenever we perform a trend detection the test of stationarity is performed on the residuals. We can see the statistics as a pandas dataframe."
   ]
  },
  {
   "cell_type": "code",
   "execution_count": 75,
   "metadata": {},
   "outputs": [
    {
     "data": {
      "text/html": [
       "<div>\n",
       "<style scoped>\n",
       "    .dataframe tbody tr th:only-of-type {\n",
       "        vertical-align: middle;\n",
       "    }\n",
       "\n",
       "    .dataframe tbody tr th {\n",
       "        vertical-align: top;\n",
       "    }\n",
       "\n",
       "    .dataframe thead th {\n",
       "        text-align: right;\n",
       "    }\n",
       "</style>\n",
       "<table border=\"1\" class=\"dataframe\">\n",
       "  <thead>\n",
       "    <tr style=\"text-align: right;\">\n",
       "      <th></th>\n",
       "      <th>portfolio</th>\n",
       "    </tr>\n",
       "  </thead>\n",
       "  <tbody>\n",
       "    <tr>\n",
       "      <th>ADF Test Statistic</th>\n",
       "      <td>-3.315191</td>\n",
       "    </tr>\n",
       "    <tr>\n",
       "      <th>P-Value</th>\n",
       "      <td>0.014213</td>\n",
       "    </tr>\n",
       "    <tr>\n",
       "      <th>Lags Used</th>\n",
       "      <td>16.000000</td>\n",
       "    </tr>\n",
       "    <tr>\n",
       "      <th>Observations Used</th>\n",
       "      <td>3463.000000</td>\n",
       "    </tr>\n",
       "    <tr>\n",
       "      <th>Critical Value (1%)</th>\n",
       "      <td>-3.432240</td>\n",
       "    </tr>\n",
       "    <tr>\n",
       "      <th>Critical Value (5%)</th>\n",
       "      <td>-2.862375</td>\n",
       "    </tr>\n",
       "    <tr>\n",
       "      <th>Critical Value (10%)</th>\n",
       "      <td>-2.567214</td>\n",
       "    </tr>\n",
       "  </tbody>\n",
       "</table>\n",
       "</div>"
      ],
      "text/plain": [
       "                        portfolio\n",
       "ADF Test Statistic      -3.315191\n",
       "P-Value                  0.014213\n",
       "Lags Used               16.000000\n",
       "Observations Used     3463.000000\n",
       "Critical Value (1%)     -3.432240\n",
       "Critical Value (5%)     -2.862375\n",
       "Critical Value (10%)    -2.567214"
      ]
     },
     "execution_count": 75,
     "metadata": {},
     "output_type": "execute_result"
    }
   ],
   "source": [
    "test['portfolio']"
   ]
  },
  {
   "cell_type": "code",
   "execution_count": 71,
   "metadata": {},
   "outputs": [
    {
     "data": {
      "text/plain": [
       "<matplotlib.axes._subplots.AxesSubplot at 0x11f143050>"
      ]
     },
     "execution_count": 71,
     "metadata": {},
     "output_type": "execute_result"
    },
    {
     "data": {
      "image/png": "[encoded data removed]",
      "text/plain": [
       "<Figure size 432x288 with 1 Axes>"
      ]
     },
     "metadata": {
      "needs_background": "light"
     },
     "output_type": "display_data"
    }
   ],
   "source": [
    "filtered, test = l1filter(data, delta=[1E4, 1E4, 1E1])\n",
    "filtered.plot(logy=True)"
   ]
  },
  {
   "cell_type": "code",
   "execution_count": 58,
   "metadata": {},
   "outputs": [
    {
     "data": {
      "text/plain": [
       "dict_keys(['VTI', 'TLT', 'IAU'])"
      ]
     },
     "execution_count": 58,
     "metadata": {},
     "output_type": "execute_result"
    }
   ],
   "source": [
    "test.keys()"
   ]
  },
  {
   "cell_type": "code",
   "execution_count": 59,
   "metadata": {},
   "outputs": [
    {
     "data": {
      "text/html": [
       "<div>\n",
       "<style scoped>\n",
       "    .dataframe tbody tr th:only-of-type {\n",
       "        vertical-align: middle;\n",
       "    }\n",
       "\n",
       "    .dataframe tbody tr th {\n",
       "        vertical-align: top;\n",
       "    }\n",
       "\n",
       "    .dataframe thead th {\n",
       "        text-align: right;\n",
       "    }\n",
       "</style>\n",
       "<table border=\"1\" class=\"dataframe\">\n",
       "  <thead>\n",
       "    <tr style=\"text-align: right;\">\n",
       "      <th></th>\n",
       "      <th>VTI</th>\n",
       "    </tr>\n",
       "  </thead>\n",
       "  <tbody>\n",
       "    <tr>\n",
       "      <th>ADF Test Statistic</th>\n",
       "      <td>-3.007341</td>\n",
       "    </tr>\n",
       "    <tr>\n",
       "      <th>P-Value</th>\n",
       "      <td>0.034215</td>\n",
       "    </tr>\n",
       "    <tr>\n",
       "      <th>Lags Used</th>\n",
       "      <td>18.000000</td>\n",
       "    </tr>\n",
       "    <tr>\n",
       "      <th>Observations Used</th>\n",
       "      <td>3807.000000</td>\n",
       "    </tr>\n",
       "    <tr>\n",
       "      <th>Critical Value (1%)</th>\n",
       "      <td>-3.432069</td>\n",
       "    </tr>\n",
       "    <tr>\n",
       "      <th>Critical Value (5%)</th>\n",
       "      <td>-2.862299</td>\n",
       "    </tr>\n",
       "    <tr>\n",
       "      <th>Critical Value (10%)</th>\n",
       "      <td>-2.567174</td>\n",
       "    </tr>\n",
       "  </tbody>\n",
       "</table>\n",
       "</div>"
      ],
      "text/plain": [
       "                              VTI\n",
       "ADF Test Statistic      -3.007341\n",
       "P-Value                  0.034215\n",
       "Lags Used               18.000000\n",
       "Observations Used     3807.000000\n",
       "Critical Value (1%)     -3.432069\n",
       "Critical Value (5%)     -2.862299\n",
       "Critical Value (10%)    -2.567174"
      ]
     },
     "execution_count": 59,
     "metadata": {},
     "output_type": "execute_result"
    }
   ],
   "source": [
    "test['VTI']"
   ]
  }
 ],
 "metadata": {
  "kernelspec": {
   "display_name": "Python 3",
   "language": "python",
   "name": "python3"
  },
  "language_info": {
   "codemirror_mode": {
    "name": "ipython",
    "version": 3
   },
   "file_extension": ".py",
   "mimetype": "text/x-python",
   "name": "python",
   "nbconvert_exporter": "python",
   "pygments_lexer": "ipython3",
   "version": "3.7.6"
  }
 },
 "nbformat": 4,
 "nbformat_minor": 4
}
